{
 "cells": [
  {
   "cell_type": "code",
   "execution_count": 2,
   "metadata": {},
   "outputs": [
    {
     "name": "stdout",
     "output_type": "stream",
     "text": [
      "Hello\n",
      "110\n"
     ]
    }
   ],
   "source": [
    "print('Hello')\n",
    "a = 50\n",
    "b = 60\n",
    "c = a+b\n",
    "print(c)"
   ]
  },
  {
   "cell_type": "code",
   "execution_count": 1,
   "metadata": {},
   "outputs": [
    {
     "name": "stdout",
     "output_type": "stream",
     "text": [
      " Volume in drive C has no label.\n",
      " Volume Serial Number is 881C-E019\n",
      "\n",
      " Directory of C:\\dev\\python_950\n",
      "\n",
      "11/12/2020  10:39 AM    <DIR>          .\n",
      "11/12/2020  10:39 AM    <DIR>          ..\n",
      "10/29/2020  11:04 AM                20 .gitignore\n",
      "11/12/2020  09:58 AM    <DIR>          .idea\n",
      "11/12/2020  10:39 AM    <DIR>          .ipynb_checkpoints\n",
      "11/05/2020  11:19 AM               874 control_flow.py\n",
      "11/05/2020  10:03 AM                41 hello.py\n",
      "11/05/2020  10:55 AM               294 logical_text.py\n",
      "11/12/2020  10:39 AM             4,535 Python_2020_11_12.ipynb\n",
      "11/05/2020  10:22 AM               195 variables.py\n",
      "11/12/2020  09:59 AM    <DIR>          venv\n",
      "               6 File(s)          5,959 bytes\n",
      "               5 Dir(s)  13,154,217,984 bytes free\n"
     ]
    }
   ],
   "source": [
    "#!ls -al\n",
    "!dir"
   ]
  },
  {
   "cell_type": "code",
   "execution_count": 4,
   "metadata": {},
   "outputs": [
    {
     "name": "stdout",
     "output_type": "stream",
     "text": [
      "1.79e+308\n"
     ]
    }
   ],
   "source": [
    "print(1.79e+308)"
   ]
  },
  {
   "cell_type": "code",
   "execution_count": 5,
   "metadata": {},
   "outputs": [
    {
     "name": "stdout",
     "output_type": "stream",
     "text": [
      "inf\n"
     ]
    }
   ],
   "source": [
    "print(1.8e+308)"
   ]
  },
  {
   "cell_type": "code",
   "execution_count": 9,
   "metadata": {},
   "outputs": [
    {
     "name": "stdout",
     "output_type": "stream",
     "text": [
      "0\n",
      "2\n"
     ]
    }
   ],
   "source": [
    "for i in range(5):\n",
    "    if i==1:\n",
    "        continue\n",
    "    if i==3:\n",
    "        break\n",
    "    print(i)"
   ]
  },
  {
   "cell_type": "code",
   "execution_count": 15,
   "metadata": {},
   "outputs": [
    {
     "data": {
      "text/plain": [
       "70"
      ]
     },
     "execution_count": 15,
     "metadata": {},
     "output_type": "execute_result"
    }
   ],
   "source": [
    "def add(a=50, b=20):\n",
    "    return a + b\n",
    "\n",
    "#add(a=40)\n",
    "add()"
   ]
  },
  {
   "cell_type": "code",
   "execution_count": 2,
   "metadata": {},
   "outputs": [
    {
     "name": "stdout",
     "output_type": "stream",
     "text": [
      "Writing t.txt\n"
     ]
    }
   ],
   "source": [
    "%%file t.txt\n",
    "abc def"
   ]
  },
  {
   "cell_type": "code",
   "execution_count": 8,
   "metadata": {},
   "outputs": [
    {
     "name": "stdout",
     "output_type": "stream",
     "text": [
      "abc def\n",
      "\n"
     ]
    }
   ],
   "source": [
    "f = '../ttt.txt'\n",
    "with open(f, 'r') as infile:\n",
    "    line = infile.readline()\n",
    "    while line:\n",
    "        print(line)\n",
    "        line = infile.readline()\n"
   ]
  },
  {
   "cell_type": "markdown",
   "metadata": {},
   "source": [
    "# Paths\n",
    "\n",
    "Relative path vs. Absolute Path"
   ]
  },
  {
   "cell_type": "code",
   "execution_count": 3,
   "metadata": {},
   "outputs": [],
   "source": [
    "fw = 't2.txt'\n",
    "with open(fw, 'w') as outfile:\n",
    "    outfile.write('Abc\\n')\n",
    "    outfile.write('def')\n",
    "\n"
   ]
  },
  {
   "cell_type": "code",
   "execution_count": 4,
   "outputs": [],
   "source": [
    "import _pickle\n",
    "a = 60\n",
    "b = 78\n",
    "fw = 't3.dat'\n",
    "with open(fw, 'wb') as outfile:\n",
    "    _pickle.dump(a, outfile)\n",
    "\n"
   ],
   "metadata": {
    "collapsed": false,
    "pycharm": {
     "name": "#%%\n"
    }
   }
  },
  {
   "cell_type": "code",
   "execution_count": 6,
   "outputs": [
    {
     "name": "stdout",
     "output_type": "stream",
     "text": [
      "Got from file: 60\n"
     ]
    }
   ],
   "source": [
    "import _pickle\n",
    "fw = 't3.dat'\n",
    "with open(fw, 'rb') as infile:\n",
    "    out_a = _pickle.load(infile)\n",
    "    print('Got from file: ' + str(out_a))"
   ],
   "metadata": {
    "collapsed": false,
    "pycharm": {
     "name": "#%%\n"
    }
   }
  },
  {
   "cell_type": "code",
   "execution_count": null,
   "outputs": [],
   "source": [],
   "metadata": {
    "collapsed": false,
    "pycharm": {
     "name": "#%%\n"
    }
   }
  }
 ],
 "metadata": {
  "kernelspec": {
   "display_name": "Python 3",
   "language": "python",
   "name": "python3"
  },
  "language_info": {
   "codemirror_mode": {
    "name": "ipython",
    "version": 3
   },
   "file_extension": ".py",
   "mimetype": "text/x-python",
   "name": "python",
   "nbconvert_exporter": "python",
   "pygments_lexer": "ipython3",
   "version": "3.8.6"
  }
 },
 "nbformat": 4,
 "nbformat_minor": 4
}