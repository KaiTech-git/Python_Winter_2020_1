{
 "cells": [
  {
   "cell_type": "code",
   "execution_count": 2,
   "metadata": {},
   "outputs": [
    {
     "name": "stdout",
     "output_type": "stream",
     "text": [
      "Hello\n",
      "110\n"
     ]
    }
   ],
   "source": [
    "print('Hello')\n",
    "a = 50\n",
    "b = 60\n",
    "c = a+b\n",
    "print(c)"
   ]
  },
  {
   "cell_type": "code",
   "execution_count": 3,
   "metadata": {},
   "outputs": [
    {
     "name": "stdout",
     "output_type": "stream",
     "text": [
      "total 48\r\n",
      "drwxr-xr-x  11 pol  staff  352 Nov 12 10:05 \u001b[34m.\u001b[m\u001b[m\r\n",
      "drwxr-xr-x   4 pol  staff  128 Nov 12 09:56 \u001b[34m..\u001b[m\u001b[m\r\n",
      "drwxr-xr-x  12 pol  staff  384 Nov 12 09:56 \u001b[34m.git\u001b[m\u001b[m\r\n",
      "-rw-r--r--   1 pol  staff   17 Nov 12 09:56 .gitignore\r\n",
      "drwxr-xr-x   3 pol  staff   96 Nov 12 10:04 \u001b[34m.ipynb_checkpoints\u001b[m\u001b[m\r\n",
      "-rw-r--r--   1 pol  staff  880 Nov 12 10:05 Python_2020_11_12.ipynb\r\n",
      "-rw-r--r--   1 pol  staff  816 Nov 12 09:56 control_flow.py\r\n",
      "-rw-r--r--   1 pol  staff   36 Nov 12 09:56 hello.py\r\n",
      "-rw-r--r--   1 pol  staff  271 Nov 12 09:56 logical_text.py\r\n",
      "-rw-r--r--   1 pol  staff  177 Nov 12 09:56 variables.py\r\n",
      "drwxr-xr-x   8 pol  staff  256 Nov 12 10:01 \u001b[34mvenv\u001b[m\u001b[m\r\n"
     ]
    }
   ],
   "source": [
    "!ls -al\n",
    "# !dir"
   ]
  },
  {
   "cell_type": "code",
   "execution_count": 4,
   "metadata": {},
   "outputs": [
    {
     "name": "stdout",
     "output_type": "stream",
     "text": [
      "1.79e+308\n"
     ]
    }
   ],
   "source": [
    "print(1.79e+308)"
   ]
  },
  {
   "cell_type": "code",
   "execution_count": 5,
   "metadata": {},
   "outputs": [
    {
     "name": "stdout",
     "output_type": "stream",
     "text": [
      "inf\n"
     ]
    }
   ],
   "source": [
    "print(1.8e+308)"
   ]
  },
  {
   "cell_type": "code",
   "execution_count": 9,
   "metadata": {},
   "outputs": [
    {
     "name": "stdout",
     "output_type": "stream",
     "text": [
      "0\n",
      "2\n"
     ]
    }
   ],
   "source": [
    "for i in range(5):\n",
    "    if i==1:\n",
    "        continue\n",
    "    if i==3:\n",
    "        break\n",
    "    print(i)"
   ]
  },
  {
   "cell_type": "code",
   "execution_count": 15,
   "metadata": {},
   "outputs": [
    {
     "data": {
      "text/plain": [
       "70"
      ]
     },
     "execution_count": 15,
     "metadata": {},
     "output_type": "execute_result"
    }
   ],
   "source": [
    "def add(a=50, b=20):\n",
    "    return a + b\n",
    "\n",
    "#add(a=40)\n",
    "add()"
   ]
  },
  {
   "cell_type": "code",
   "execution_count": 17,
   "metadata": {},
   "outputs": [
    {
     "name": "stdout",
     "output_type": "stream",
     "text": [
      "Writing t.txt\n"
     ]
    }
   ],
   "source": [
    "%%file t.txt\n",
    "abc def"
   ]
  },
  {
   "cell_type": "code",
   "execution_count": 19,
   "metadata": {},
   "outputs": [
    {
     "name": "stdout",
     "output_type": "stream",
     "text": [
      "abc def\n",
      "\n",
      "gsgsgsgsg\n",
      "\n",
      "etwt\n",
      "\n",
      "w\n",
      "\n",
      "gwtwt\n",
      "\n",
      "w\n",
      "\n",
      "tgwtgw\n",
      "\n",
      "gw\n",
      "\n",
      "g\n"
     ]
    }
   ],
   "source": [
    "f = 't.txt'\n",
    "with open(f, 'r') as infile:\n",
    "    line = infile.readline()\n",
    "    while line:\n",
    "        print(line)\n",
    "        line = infile.readline()\n"
   ]
  },
  {
   "cell_type": "markdown",
   "metadata": {},
   "source": [
    "# Paths\n",
    "\n",
    "Relative path vs. Absolute Path"
   ]
  },
  {
   "cell_type": "code",
   "execution_count": null,
   "metadata": {},
   "outputs": [],
   "source": []
  }
 ],
 "metadata": {
  "kernelspec": {
   "display_name": "Python 3",
   "language": "python",
   "name": "python3"
  },
  "language_info": {
   "codemirror_mode": {
    "name": "ipython",
    "version": 3
   },
   "file_extension": ".py",
   "mimetype": "text/x-python",
   "name": "python",
   "nbconvert_exporter": "python",
   "pygments_lexer": "ipython3",
   "version": "3.8.0"
  }
 },
 "nbformat": 4,
 "nbformat_minor": 4
}
